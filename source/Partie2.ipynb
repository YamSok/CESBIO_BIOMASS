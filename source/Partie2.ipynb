{
 "cells": [
  {
   "cell_type": "code",
   "execution_count": 1,
   "metadata": {},
   "outputs": [],
   "source": [
    "import warnings\n",
    "warnings.filterwarnings(\"ignore\")\n",
    "# Augmenter la densité de pixel\n",
    "import matplotlib as mpl\n",
    "import scipy.stats as scpstats\n",
    "mpl.rcParams['figure.dpi'] = 100\n",
    "from croscor import *\n",
    "import csv\n",
    "band1 = np.load(\"../data/band1.npy\")\n",
    "band2 = np.load(\"../data/band2.npy\")\n",
    "\n",
    "#"
   ]
  },
  {
   "cell_type": "code",
   "execution_count": 2,
   "metadata": {},
   "outputs": [],
   "source": [
    "b1,b2 = shiftSelec(band1,band2,15,15)"
   ]
  },
  {
   "cell_type": "code",
   "execution_count": 3,
   "metadata": {},
   "outputs": [],
   "source": [
    "\n",
    "\"\"\"\n",
    "Vérifier qu'on trouve quelque chose de très proche de 0 après déplacement en refaisant un tour\n",
    "ok\n",
    "\"\"\"\n",
    "def multichoice():\n",
    "    ok = True\n",
    "    choices = []\n",
    "    while ok:\n",
    "        choices.append(choice())\n",
    "        print('\\n #######')\n",
    "        print(\"Choices :\",choices)\n",
    "        print('\\n #######')\n",
    "        cin = input('Press Enter to continue or type no')\n",
    "        if cin == 'no':\n",
    "            ok = False\n",
    "    return choices\n",
    "\n",
    "def apply_displacement(band1,coord,choices):\n",
    "    img = np.copy(band1)\n",
    "    (x0,x1,y0,y1) = coord\n",
    "    imgs = []\n",
    "    for tabname in choices:  \n",
    "        features = ExtractFeatures(tabname)\n",
    "        print(features[\"ax0\"],features[\"ax1\"])\n",
    "        img = np.roll(np.roll(band1,- int(features[\"ax0\"]),axis=0),- int(features[\"ax1\"]),axis=1)\n",
    "        tab = np.load(tabname)\n",
    "        xm = np.mean(tab[0])\n",
    "        ym = np.mean(tab[1])\n",
    "        #print((xm,ym))\n",
    "        img_new = np.roll(np.roll(img, - int(ym),axis=0), int(xm),axis=1)\n",
    "        imgs.append(img_new)\n",
    "    imgs.append(band1)\n",
    "    return imgs#, selection(img_new,coord)\n",
    "\n",
    "def apply_displacement(band1,coord,choices):\n",
    "    img = np.copy(band1)\n",
    "    (x0,x1,y0,y1) = coord\n",
    "    imgs = []\n",
    "    for tabname in choices:  \n",
    "        features = ExtractFeatures(tabname)\n",
    "        print(features[\"ax0\"],features[\"ax1\"])\n",
    "        img = np.roll(np.roll(band1,- int(features[\"ax0\"]),axis=0),- int(features[\"ax1\"]),axis=1)\n",
    "        tab = np.load(tabname)\n",
    "        xm = np.mean(tab[0])\n",
    "        ym = np.mean(tab[1])\n",
    "        #print((xm,ym))\n",
    "        img_new = np.roll(np.roll(img, - int(ym),axis=0), int(xm),axis=1)\n",
    "        imgs.append(img_new)\n",
    "    imgs.append(band1)\n",
    "    return imgs#, selection(img_new,coord)\n",
    "\n",
    "\n",
    "def versus(img1,img2):\n",
    "    \n",
    "    fig,ax = plt.subplots(1,2, figsize=(15,8))\n",
    "    im1 = ax[0].imshow(10*np.log(img1),vmin=-40,vmax=0)\n",
    "    ax[0].set_title(\"BAND 1 - original\")\n",
    "    fig.colorbar(im1,ax=ax[0])\n",
    "\n",
    "    im2 = ax[1].imshow(10*np.log(img2),vmin=-40,vmax=0)\n",
    "    ax[1].set_title(\"BAND 1 - déplacement\")\n",
    "    fig.colorbar(im2,ax=ax[1])\n",
    "\n",
    "    plt.tight_layout()\n",
    "    plt.show()\n",
    "\n",
    "def pltBiomass(imgs, choices,num,output = False): #img est l'image corrigée - rapport band2/band1-corrigee\n",
    "    BiomassData = loadBiomass(num)\n",
    "    band1 = np.load(\"../data/band1.npy\")\n",
    "    band2 = np.load(\"../data/band2.npy\")\n",
    "    pearsonr = []\n",
    "    Parcels = loadParcels(num)\n",
    "    plt.figure(1, figsize=(10,5))\n",
    "    i = 0\n",
    "    for img in imgs:\n",
    "        IntensityData = []\n",
    "        for X in Parcels:\n",
    "            IntensityZone_X = IntensityZone(X,band2/img)\n",
    "            #IntensityZone_X = IntensityZone(X,band2/img)\n",
    "            IntensityData.append(IntensityZone_X[0])\n",
    "\n",
    "        sortedData = sortBiomInt(BiomassData,IntensityData)\n",
    "        if output : \n",
    "            print(sortedData)\n",
    "            print(\"---------------------------------------------\")\n",
    "\n",
    "        pearsonr.append(scpstats.pearsonr(sortedData[:,0],sortedData[:,1]))\n",
    "        if i < len(choices):\n",
    "            features = ExtractFeatures(choices[i])\n",
    "            label = features\n",
    "        else:\n",
    "            label = \"ref\"\n",
    "        plt.scatter(sortedData[:,0],sortedData[:,1], label = label)\n",
    "        i += 1\n",
    "    plt.legend(bbox_to_anchor=(1.04,1), borderaxespad=0)\n",
    "    plt.ylim((-30,-10))\n",
    "    plt.title(\"Intensité image en fonction de la biomasse sur 16 ROI de forêt\")\n",
    "    plt.xlabel(\"Qté de biomasse de 16 parcelles (Ordre croissant de qté)\")\n",
    "    plt.xlim((200,500))\n",
    "    plt.ylabel(\"Intensité image parcelle\")\n",
    "    plt.savefig(\"../results/plotMaternelle1.png\")\n",
    "    plt.show()\n",
    "    \n",
    "    return pearsonr\n",
    "    \n",
    "def main(num):\n",
    "    (x0,x1,y0,y1) = (30 + 2 * 256, 1054, 215 + 3 * 256, 1751)\n",
    "    coord = (x0,x1,y0,y1)\n",
    "    choices = choice()\n",
    "    imgs = apply_displacement(band1,coord,choices)\n",
    "    pearson = pltBiomass(imgs,choices,num,False)\n",
    "    print(\"\\n---------------------------------------------\")\n",
    "\n",
    "    print(\"\\n \\n Coefs de pearson :\")\n",
    "    wanted_keys = ['ax0', 'ax1', 'f'] # The keys you want\n",
    "    for i in range(len(choices)):\n",
    "        features = ExtractFeatures(choices[i])\n",
    "        features_list = [(k,features[k]) for k in wanted_keys]\n",
    "        print(features_list,pearson[i])\n",
    "        #print(features[, pearson[i])\n",
    "    print('ref', pearson[-1])\n",
    "    #pearsonr = plotBiomasse(b1_new)\n",
    "    #np.save('../decoup/band1_new.npy',b1_new)\n",
    "    #versus(band2/b1_new,band2/band1)\n"
   ]
  },
  {
   "cell_type": "code",
   "execution_count": 4,
   "metadata": {},
   "outputs": [
    {
     "name": "stdout",
     "output_type": "stream",
     "text": [
      "Liste des résulats disponibles \n",
      "\n",
      "0 - 2f_256bs_-14sx_-8sy_10seuil_100accu.npy\n",
      "1 - 2f_256bs_0sx_0sy_10seuil_0accu.npy\n",
      "2 - zone_foret_old\n",
      "3 - band1_new.npy\n",
      "4 - image_totale\n",
      "5 - samedi\n",
      "6 - 20f_256bs_15sx_15sy_10seuil_89accu.npy\n",
      "7 - *2f_256bs_15sx_15sy_10seuil_54accu.npy\n",
      "8 - 2f_256bs_15sx_15sy_10seuil_66accu.npy\n",
      "9 - 2f_256bs_15sx_15sy_10seuil_79accu.npy\n",
      "10 - 2f_256bs_15sx_15sy_10seuil_80accu.npy\n",
      "11 - 2f_256bs_15sx_15sy_10seuil_95accu.npy\n",
      "12 - 3f_256bs_15sx_15sy_10seuil_100accu.npy\n",
      "13 - 3f_256bs_15sx_15sy_10seuil_91accu.npy\n",
      "14 - 3f_256bs_15sx_15sy_10seuil_95accu.npy\n",
      "15 - 4f_256bs_15sx_15sy_10seuil_83accu.npy\n",
      "16 - 4f_256bs_15sx_15sy_10seuil_88accu.npy\n",
      "17 - 4f_256bs_15sx_15sy_10seuil_91accu.npy\n",
      "18 - 8f_256bs_0sx_0sy_10seuil_0accu.npy\n",
      "19 - 8f_256bs_15sx_15sy_10seuil_89accu.npy\n",
      "20 - 8f_256bs_15sx_6sy_10seuil_99accu.npy\n",
      "\n",
      " ## Pour mettre fin à la sélection, appuyer sur entré sans entrer de numéro ##\n",
      "\n",
      "Selection : 20\n",
      "8f_256bs_15sx_6sy_10seuil_99accu.npy\n",
      "Selection : \n",
      "['8f_256bs_15sx_6sy_10seuil_99accu.npy']\n",
      "15 6\n",
      "-25.819359\n"
     ]
    },
    {
     "ename": "AttributeError",
     "evalue": "module 'numpy' has no attribute 'logIntmean'",
     "output_type": "error",
     "traceback": [
      "\u001b[0;31m---------------------------------------------------------------------------\u001b[0m",
      "\u001b[0;31mAttributeError\u001b[0m                            Traceback (most recent call last)",
      "\u001b[0;32m<ipython-input-4-10bc21a1244c>\u001b[0m in \u001b[0;36m<module>\u001b[0;34m\u001b[0m\n\u001b[0;32m----> 1\u001b[0;31m \u001b[0mmain\u001b[0m\u001b[0;34m(\u001b[0m\u001b[0;36m16\u001b[0m\u001b[0;34m)\u001b[0m\u001b[0;34m\u001b[0m\u001b[0;34m\u001b[0m\u001b[0m\n\u001b[0m",
      "\u001b[0;32m<ipython-input-3-f65ca9dcaa3c>\u001b[0m in \u001b[0;36mmain\u001b[0;34m(num)\u001b[0m\n\u001b[1;32m    109\u001b[0m     \u001b[0mchoices\u001b[0m \u001b[0;34m=\u001b[0m \u001b[0mchoice\u001b[0m\u001b[0;34m(\u001b[0m\u001b[0;34m)\u001b[0m\u001b[0;34m\u001b[0m\u001b[0;34m\u001b[0m\u001b[0m\n\u001b[1;32m    110\u001b[0m     \u001b[0mimgs\u001b[0m \u001b[0;34m=\u001b[0m \u001b[0mapply_displacement\u001b[0m\u001b[0;34m(\u001b[0m\u001b[0mband1\u001b[0m\u001b[0;34m,\u001b[0m\u001b[0mcoord\u001b[0m\u001b[0;34m,\u001b[0m\u001b[0mchoices\u001b[0m\u001b[0;34m)\u001b[0m\u001b[0;34m\u001b[0m\u001b[0;34m\u001b[0m\u001b[0m\n\u001b[0;32m--> 111\u001b[0;31m     \u001b[0mpearson\u001b[0m \u001b[0;34m=\u001b[0m \u001b[0mpltBiomass\u001b[0m\u001b[0;34m(\u001b[0m\u001b[0mimgs\u001b[0m\u001b[0;34m,\u001b[0m\u001b[0mchoices\u001b[0m\u001b[0;34m,\u001b[0m\u001b[0mnum\u001b[0m\u001b[0;34m,\u001b[0m\u001b[0;32mFalse\u001b[0m\u001b[0;34m)\u001b[0m\u001b[0;34m\u001b[0m\u001b[0;34m\u001b[0m\u001b[0m\n\u001b[0m\u001b[1;32m    112\u001b[0m     \u001b[0mprint\u001b[0m\u001b[0;34m(\u001b[0m\u001b[0;34m\"\\n---------------------------------------------\"\u001b[0m\u001b[0;34m)\u001b[0m\u001b[0;34m\u001b[0m\u001b[0;34m\u001b[0m\u001b[0m\n\u001b[1;32m    113\u001b[0m \u001b[0;34m\u001b[0m\u001b[0m\n",
      "\u001b[0;32m<ipython-input-3-f65ca9dcaa3c>\u001b[0m in \u001b[0;36mpltBiomass\u001b[0;34m(imgs, choices, num, output)\u001b[0m\n\u001b[1;32m     76\u001b[0m         \u001b[0mIntensityData\u001b[0m \u001b[0;34m=\u001b[0m \u001b[0;34m[\u001b[0m\u001b[0;34m]\u001b[0m\u001b[0;34m\u001b[0m\u001b[0;34m\u001b[0m\u001b[0m\n\u001b[1;32m     77\u001b[0m         \u001b[0;32mfor\u001b[0m \u001b[0mX\u001b[0m \u001b[0;32min\u001b[0m \u001b[0mParcels\u001b[0m\u001b[0;34m:\u001b[0m\u001b[0;34m\u001b[0m\u001b[0;34m\u001b[0m\u001b[0m\n\u001b[0;32m---> 78\u001b[0;31m             \u001b[0mIntensityZone_X\u001b[0m \u001b[0;34m=\u001b[0m \u001b[0mIntensityZone\u001b[0m\u001b[0;34m(\u001b[0m\u001b[0mX\u001b[0m\u001b[0;34m,\u001b[0m\u001b[0;36m10\u001b[0m\u001b[0;34m*\u001b[0m\u001b[0mnp\u001b[0m\u001b[0;34m.\u001b[0m\u001b[0mlog\u001b[0m\u001b[0;34m(\u001b[0m\u001b[0;34m(\u001b[0m\u001b[0mband2\u001b[0m\u001b[0;34m/\u001b[0m\u001b[0mimg\u001b[0m\u001b[0;34m)\u001b[0m\u001b[0;34m)\u001b[0m\u001b[0;34m)\u001b[0m\u001b[0;34m\u001b[0m\u001b[0;34m\u001b[0m\u001b[0m\n\u001b[0m\u001b[1;32m     79\u001b[0m             \u001b[0;31m#IntensityZone_X = IntensityZone(X,band2/img)\u001b[0m\u001b[0;34m\u001b[0m\u001b[0;34m\u001b[0m\u001b[0;34m\u001b[0m\u001b[0m\n\u001b[1;32m     80\u001b[0m             \u001b[0mIntensityData\u001b[0m\u001b[0;34m.\u001b[0m\u001b[0mappend\u001b[0m\u001b[0;34m(\u001b[0m\u001b[0mIntensityZone_X\u001b[0m\u001b[0;34m[\u001b[0m\u001b[0;36m0\u001b[0m\u001b[0;34m]\u001b[0m\u001b[0;34m)\u001b[0m\u001b[0;34m\u001b[0m\u001b[0;34m\u001b[0m\u001b[0m\n",
      "\u001b[0;32m~/CESBIO_BIOMASS/source/croscor.py\u001b[0m in \u001b[0;36mIntensityZone\u001b[0;34m(X, img)\u001b[0m\n\u001b[1;32m    172\u001b[0m     \u001b[0mIntmean\u001b[0m \u001b[0;34m=\u001b[0m \u001b[0mnp\u001b[0m\u001b[0;34m.\u001b[0m\u001b[0mmean\u001b[0m\u001b[0;34m(\u001b[0m\u001b[0mnp\u001b[0m\u001b[0;34m.\u001b[0m\u001b[0marray\u001b[0m\u001b[0;34m(\u001b[0m\u001b[0mIntTab\u001b[0m\u001b[0;34m)\u001b[0m\u001b[0;34m)\u001b[0m\u001b[0;34m\u001b[0m\u001b[0;34m\u001b[0m\u001b[0m\n\u001b[1;32m    173\u001b[0m     \u001b[0mprint\u001b[0m\u001b[0;34m(\u001b[0m\u001b[0mIntmean\u001b[0m\u001b[0;34m)\u001b[0m\u001b[0;34m\u001b[0m\u001b[0;34m\u001b[0m\u001b[0m\n\u001b[0;32m--> 174\u001b[0;31m     \u001b[0;32mreturn\u001b[0m \u001b[0mnp\u001b[0m\u001b[0;34m.\u001b[0m\u001b[0mlogIntmean\u001b[0m\u001b[0;34m,\u001b[0m \u001b[0mIntTab\u001b[0m\u001b[0;34m\u001b[0m\u001b[0;34m\u001b[0m\u001b[0m\n\u001b[0m\u001b[1;32m    175\u001b[0m \u001b[0;34m\u001b[0m\u001b[0m\n\u001b[1;32m    176\u001b[0m \u001b[0;31m################################################################\u001b[0m\u001b[0;34m\u001b[0m\u001b[0;34m\u001b[0m\u001b[0;34m\u001b[0m\u001b[0m\n",
      "\u001b[0;32m~/.local/lib/python3.8/site-packages/numpy/__init__.py\u001b[0m in \u001b[0;36m__getattr__\u001b[0;34m(attr)\u001b[0m\n\u001b[1;32m    217\u001b[0m                 \u001b[0;32mreturn\u001b[0m \u001b[0mTester\u001b[0m\u001b[0;34m\u001b[0m\u001b[0;34m\u001b[0m\u001b[0m\n\u001b[1;32m    218\u001b[0m             \u001b[0;32melse\u001b[0m\u001b[0;34m:\u001b[0m\u001b[0;34m\u001b[0m\u001b[0;34m\u001b[0m\u001b[0m\n\u001b[0;32m--> 219\u001b[0;31m                 raise AttributeError(\"module {!r} has no attribute \"\n\u001b[0m\u001b[1;32m    220\u001b[0m                                      \"{!r}\".format(__name__, attr))\n\u001b[1;32m    221\u001b[0m \u001b[0;34m\u001b[0m\u001b[0m\n",
      "\u001b[0;31mAttributeError\u001b[0m: module 'numpy' has no attribute 'logIntmean'"
     ]
    },
    {
     "data": {
      "text/plain": [
       "<Figure size 720x360 with 0 Axes>"
      ]
     },
     "metadata": {},
     "output_type": "display_data"
    }
   ],
   "source": [
    "main(16)"
   ]
  },
  {
   "cell_type": "code",
   "execution_count": 26,
   "metadata": {},
   "outputs": [
    {
     "name": "stdout",
     "output_type": "stream",
     "text": [
      "Liste des résulats disponibles \n",
      "\n",
      "0 - 8f_256bs_15sx_6sy_10seuil_99accu.npy\n",
      "1 - 8f_256bs_15sx_15sy_10seuil_89accu.npy\n",
      "2 - 8f_256bs_0sx_0sy_10seuil_0accu.npy\n",
      "3 - band1_new.npy\n",
      "4 - 4f_256bs_15sx_15sy_10seuil_88accu.npy\n",
      "5 - 20f_256bs_15sx_15sy_10seuil_89accu.npy\n",
      "6 - 4f_256bs_15sx_15sy_10seuil_91accu.npy\n",
      "7 - 3f_256bs_15sx_15sy_10seuil_91accu.npy\n",
      "8 - 3f_256bs_15sx_15sy_10seuil_95accu.npy\n",
      "9 - 4f_256bs_15sx_15sy_10seuil_83accu.npy\n",
      "10 - 2f_256bs_15sx_15sy_10seuil_95accu.npy\n",
      "11 - 3f_256bs_15sx_15sy_10seuil_100accu.npy\n",
      "12 - 2f_256bs_15sx_15sy_10seuil_66accu.npy\n",
      "13 - 2f_256bs_15sx_15sy_10seuil_80accu.npy\n",
      "14 - 2f_256bs_15sx_15sy_10seuil_79accu.npy\n",
      "15 - *2f_256bs_15sx_15sy_10seuil_54accu.npy\n",
      "16 - samedi\n",
      "17 - zone_foret_old\n",
      "18 - image_totale\n",
      "\n",
      " ## Pour mettre fin à la sélection, appuyer sur entré sans entrer de numéro ##\n",
      "\n",
      "Selection : 0\n",
      "8f_256bs_15sx_6sy_10seuil_99accu.npy\n",
      "Selection : 2\n",
      "8f_256bs_0sx_0sy_10seuil_0accu.npy\n",
      "Selection : \n",
      "['8f_256bs_15sx_6sy_10seuil_99accu.npy', '8f_256bs_0sx_0sy_10seuil_0accu.npy']\n",
      "15 6\n",
      "0 0\n"
     ]
    },
    {
     "data": {
      "image/png": "[encoded data removed]",
      "text/plain": [
       "<Figure size 720x360 with 1 Axes>"
      ]
     },
     "metadata": {
      "needs_background": "light"
     },
     "output_type": "display_data"
    },
    {
     "name": "stdout",
     "output_type": "stream",
     "text": [
      "\n",
      "---------------------------------------------\n",
      "\n",
      " \n",
      " Coefs de pearson :\n",
      "[('ax0', '15'), ('ax1', '6'), ('f', '8')] (0.6820054882166233, 0.0036117650508625467)\n",
      "[('ax0', '0'), ('ax1', '0'), ('f', '8')] (0.4116262417887083, 0.11316711149007118)\n",
      "ref (0.4501743001905987, 0.0801643106061066)\n"
     ]
    }
   ],
   "source": [
    "main(16)"
   ]
  },
  {
   "cell_type": "code",
   "execution_count": null,
   "metadata": {},
   "outputs": [],
   "source": [
    "\"\"\"\n",
    "db en ordonnée\n",
    "corrélation en fonction du log10 de la biomasse\n",
    "Appliquer à toute une image (déplacement élastique)\n",
    "\"\"\""
   ]
  },
  {
   "cell_type": "code",
   "execution_count": 8,
   "metadata": {},
   "outputs": [
    {
     "name": "stdout",
     "output_type": "stream",
     "text": [
      "Coefficients: \n",
      " [938.23786125]\n",
      "Mean squared error: 2548.07\n",
      "Coefficient of determination: 0.47\n"
     ]
    },
    {
     "data": {
      "image/png": "[encoded data removed]",
      "text/plain": [
       "<Figure size 432x288 with 1 Axes>"
      ]
     },
     "metadata": {},
     "output_type": "display_data"
    }
   ],
   "source": [
    "\n",
    "\n",
    "import matplotlib.pyplot as plt\n",
    "import numpy as np\n",
    "from sklearn import datasets, linear_model\n",
    "from sklearn.metrics import mean_squared_error, r2_score\n",
    "\n",
    "# Load the diabetes dataset\n",
    "diabetes_X, diabetes_y = datasets.load_diabetes(return_X_y=True)\n",
    "\n",
    "# Use only one feature\n",
    "diabetes_X = diabetes_X[:, np.newaxis, 2]\n",
    "\n",
    "# Split the data into training/testing sets\n",
    "diabetes_X_train = diabetes_X[:-20]\n",
    "diabetes_X_test = diabetes_X[-20:]\n",
    "\n",
    "# Split the targets into training/testing sets\n",
    "diabetes_y_train = diabetes_y[:-20]\n",
    "diabetes_y_test = diabetes_y[-20:]\n",
    "\n",
    "# Create linear regression object\n",
    "regr = linear_model.LinearRegression()\n",
    "\n",
    "# Train the model using the training sets\n",
    "regr.fit(diabetes_X_train, diabetes_y_train)\n",
    "\n",
    "# Make predictions using the testing set\n",
    "diabetes_y_pred = regr.predict(diabetes_X_test)\n",
    "\n",
    "# The coefficients\n",
    "print('Coefficients: \\n', regr.coef_)\n",
    "# The mean squared error\n",
    "print('Mean squared error: %.2f'\n",
    "      % mean_squared_error(diabetes_y_test, diabetes_y_pred))\n",
    "# The coefficient of determination: 1 is perfect prediction\n",
    "print('Coefficient of determination: %.2f'\n",
    "      % r2_score(diabetes_y_test, diabetes_y_pred))\n",
    "\n",
    "# Plot outputs\n",
    "plt.scatter(diabetes_X_test, diabetes_y_test,  color='black')\n",
    "plt.plot(diabetes_X_test, diabetes_y_pred, color='blue', linewidth=3)\n",
    "\n",
    "plt.xticks(())\n",
    "plt.yticks(())\n",
    "\n",
    "plt.show()"
   ]
  },
  {
   "cell_type": "code",
   "execution_count": null,
   "metadata": {},
   "outputs": [],
   "source": [
    "regr.predict(diabetes_X_test)"
   ]
  },
  {
   "cell_type": "code",
   "execution_count": null,
   "metadata": {},
   "outputs": [],
   "source": []
  }
 ],
 "metadata": {
  "kernelspec": {
   "display_name": "Python 3",
   "language": "python",
   "name": "python3"
  },
  "language_info": {
   "codemirror_mode": {
    "name": "ipython",
    "version": 3
   },
   "file_extension": ".py",
   "mimetype": "text/x-python",
   "name": "python",
   "nbconvert_exporter": "python",
   "pygments_lexer": "ipython3",
   "version": "3.8.2"
  }
 },
 "nbformat": 4,
 "nbformat_minor": 4
}
